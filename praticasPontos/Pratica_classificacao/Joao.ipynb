
In [9]:

import graphlab
produtos = graphlab.SFrame("amazon_baby.gl/")

In [8]:

produtos

Out[8]:
name 	review 	rating
Planetwise Flannel Wipes 	These flannel wipes are
OK, but in my opinion ... 	3.0
Planetwise Wipe Pouch 	it came early and was not
disappointed. i love ... 	5.0
Annas Dream Full Quilt
with 2 Shams ... 	Very soft and comfortable
and warmer than it ... 	5.0
Stop Pacifier Sucking
without tears with ... 	This is a product well
worth the purchase. I ... 	5.0
Stop Pacifier Sucking
without tears with ... 	All of my kids have cried
non-stop when I tried to ... 	5.0
Stop Pacifier Sucking
without tears with ... 	When the Binky Fairy came
to our house, we didn't ... 	5.0
A Tale of Baby's Days
with Peter Rabbit ... 	Lovely book, it's bound
tightly so you may no ... 	4.0
Baby Tracker&reg; - Daily
Childcare Journal, ... 	Perfect for new parents.
We were able to keep ... 	5.0
Baby Tracker&reg; - Daily
Childcare Journal, ... 	A friend of mine pinned
this product on Pinte ... 	5.0
Baby Tracker&reg; - Daily
Childcare Journal, ... 	This has been an easy way
for my nanny to record ... 	4.0
[183531 rows x 3 columns]
Note: Only the head of the SFrame is printed.
You can use print_rows(num_rows=m, num_columns=n) to print more rows and columns.
In [10]:

produtos["conta_palavra"] = graphlab.text_analytics.count_words(produtos["review"])

In [13]:

produtos

Out[13]:
name 	review 	rating 	conta_palavra
Planetwise Flannel Wipes 	These flannel wipes are
OK, but in my opinion ... 	3.0 	{'and': 5, '6': 1,
'stink': 1, 'because' ...
Planetwise Wipe Pouch 	it came early and was not
disappointed. i love ... 	5.0 	{'and': 3, 'love': 1,
'it': 2, 'highly': 1, ...
Annas Dream Full Quilt
with 2 Shams ... 	Very soft and comfortable
and warmer than it ... 	5.0 	{'and': 2, 'quilt': 1,
'it': 1, 'comfortable': ...
Stop Pacifier Sucking
without tears with ... 	This is a product well
worth the purchase. I ... 	5.0 	{'ingenious': 1, 'and':
3, 'love': 2, ...
Stop Pacifier Sucking
without tears with ... 	All of my kids have cried
non-stop when I tried to ... 	5.0 	{'and': 2, 'parents!!':
1, 'all': 2, 'puppet.': ...
Stop Pacifier Sucking
without tears with ... 	When the Binky Fairy came
to our house, we didn't ... 	5.0 	{'and': 2, 'this': 2,
'her': 1, 'help': 2, ...
A Tale of Baby's Days
with Peter Rabbit ... 	Lovely book, it's bound
tightly so you may no ... 	4.0 	{'shop': 1, 'noble': 1,
'is': 1, 'it': 1, 'as': ...
Baby Tracker&reg; - Daily
Childcare Journal, ... 	Perfect for new parents.
We were able to keep ... 	5.0 	{'and': 2, 'all': 1,
'right': 1, 'when': 1, ...
Baby Tracker&reg; - Daily
Childcare Journal, ... 	A friend of mine pinned
this product on Pinte ... 	5.0 	{'and': 1, 'help': 1,
'give': 1, 'is': 1, ' ...
Baby Tracker&reg; - Daily
Childcare Journal, ... 	This has been an easy way
for my nanny to record ... 	4.0 	{'journal.': 1, 'nanny':
1, 'standarad': 1, ...
[183531 rows x 4 columns]
Note: Only the head of the SFrame is printed.
You can use print_rows(num_rows=m, num_columns=n) to print more rows and columns.
In [19]:

produtos = produtos[produtos["rating"] != 3]
produtos["sentimento"] = produtos["rating"] >=4

In [24]:

produtos.head()

Out[24]:
name 	review 	rating 	conta_palavra 	sentimento
Planetwise Wipe Pouch 	it came early and was not
disappointed. i love ... 	5.0 	{'and': 3, 'love': 1,
'it': 2, 'highly': 1, ... 	1
Annas Dream Full Quilt
with 2 Shams ... 	Very soft and comfortable
and warmer than it ... 	5.0 	{'and': 2, 'quilt': 1,
'it': 1, 'comfortable': ... 	1
Stop Pacifier Sucking
without tears with ... 	This is a product well
worth the purchase. I ... 	5.0 	{'ingenious': 1, 'and':
3, 'love': 2, ... 	1
Stop Pacifier Sucking
without tears with ... 	All of my kids have cried
non-stop when I tried to ... 	5.0 	{'and': 2, 'parents!!':
1, 'all': 2, 'puppet.': ... 	1
Stop Pacifier Sucking
without tears with ... 	When the Binky Fairy came
to our house, we didn't ... 	5.0 	{'and': 2, 'this': 2,
'her': 1, 'help': 2, ... 	1
A Tale of Baby's Days
with Peter Rabbit ... 	Lovely book, it's bound
tightly so you may no ... 	4.0 	{'shop': 1, 'noble': 1,
'is': 1, 'it': 1, 'as': ... 	1
Baby Tracker&reg; - Daily
Childcare Journal, ... 	Perfect for new parents.
We were able to keep ... 	5.0 	{'and': 2, 'all': 1,
'right': 1, 'when': 1, ... 	1
Baby Tracker&reg; - Daily
Childcare Journal, ... 	A friend of mine pinned
this product on Pinte ... 	5.0 	{'and': 1, 'help': 1,
'give': 1, 'is': 1, ' ... 	1
Baby Tracker&reg; - Daily
Childcare Journal, ... 	This has been an easy way
for my nanny to record ... 	4.0 	{'journal.': 1, 'nanny':
1, 'standarad': 1, ... 	1
Baby Tracker&reg; - Daily
Childcare Journal, ... 	I love this journal and
our nanny uses it ... 	4.0 	{'all': 1, 'forget': 1,
'just': 1, 'food': 1, ... 	1
[10 rows x 5 columns]
In [26]:

produtos["rating"].show(view="Categorical")

Canvas is updated and available in a tab in the default browser.

In [28]:

produtos["sentimento"].show(view="Categorical")

Canvas is updated and available in a tab in the default browser.

In [29]:

treino,teste = produtos.random_split(.8, seed=0)
modelo1 = graphlab.logistic_classifier.create(treino,target='sentimento',
    features=['conta_palavra'],
    validation_set=teste)
modelo2 = graphlab.svm_classifier.create(treino,target='sentimento',
    features=['conta_palavra'],
    validation_set=teste)

WARNING: The number of feature dimensions in this problem is very large in comparison with the number of examples. Unless an appropriate regularization value is set, this model may not provide accurate predictions for a validation/test set.

Logistic regression:

--------------------------------------------------------

Number of examples          : 133448

Number of classes           : 2

Number of feature columns   : 1

Number of unpacked features : 219217

Number of coefficients    : 219218

Starting L-BFGS

--------------------------------------------------------

+-----------+----------+-----------+--------------+-------------------+---------------------+

| Iteration | Passes   | Step size | Elapsed Time | Training-accuracy | Validation-accuracy |

+-----------+----------+-----------+--------------+-------------------+---------------------+

| 1         | 5        | 0.000002  | 3.978620     | 0.841481          | 0.839989            |

| 2         | 9        | 3.000000  | 6.842252     | 0.947425          | 0.894877            |

| 3         | 10       | 3.000000  | 7.981705     | 0.923768          | 0.866232            |

| 4         | 11       | 3.000000  | 9.101305     | 0.971779          | 0.912743            |

| 5         | 12       | 3.000000  | 10.283865    | 0.975511          | 0.908900            |

| 6         | 13       | 3.000000  | 11.448208    | 0.899991          | 0.825967            |

| 7         | 15       | 1.000000  | 13.294745    | 0.984548          | 0.921451            |

| 8         | 16       | 1.000000  | 14.567763    | 0.985118          | 0.921871            |

| 9         | 17       | 1.000000  | 15.768743    | 0.987066          | 0.919709            |

| 10        | 18       | 1.000000  | 16.908180    | 0.988715          | 0.916256            |

+-----------+----------+-----------+--------------+-------------------+---------------------+

TERMINATED: Iteration limit reached.

This model may not be optimal. To improve it, consider increasing `max_iterations`.

WARNING: The number of feature dimensions in this problem is very large in comparison with the number of examples. Unless an appropriate regularization value is set, this model may not provide accurate predictions for a validation/test set.

SVM:

--------------------------------------------------------

Number of examples          : 133448

Number of classes           : 2

Number of feature columns   : 1

Number of unpacked features : 219217

Number of coefficients    : 219218

Starting L-BFGS

--------------------------------------------------------

+-----------+----------+-----------+--------------+-------------------+---------------------+

| Iteration | Passes   | Step size | Elapsed Time | Training-accuracy | Validation-accuracy |

+-----------+----------+-----------+--------------+-------------------+---------------------+

| 1         | 6        | 0.000001  | 3.325030     | 0.841481          | 0.839989            |

| 2         | 9        | 5.000000  | 5.545316     | 0.952603          | 0.900552            |

| 3         | 10       | 5.000000  | 6.637900     | 0.950970          | 0.889353            |

| 4         | 11       | 5.000000  | 7.716229     | 0.850391          | 0.785761            |

| 5         | 13       | 1.000000  | 9.372601     | 0.974042          | 0.918418            |

| 6         | 14       | 1.000000  | 10.477006    | 0.975459          | 0.918298            |

| 7         | 15       | 1.000000  | 11.578604    | 0.977602          | 0.918839            |

| 8         | 16       | 1.000000  | 12.684196    | 0.981536          | 0.920490            |

| 9         | 17       | 1.000000  | 13.764393    | 0.987141          | 0.918388            |

| 10        | 18       | 1.000000  | 14.869700    | 0.989037          | 0.915566            |

+-----------+----------+-----------+--------------+-------------------+---------------------+

TERMINATED: Iteration limit reached.

This model may not be optimal. To improve it, consider increasing `max_iterations`.


